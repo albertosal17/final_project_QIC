{
 "cells": [
  {
   "cell_type": "code",
   "execution_count": 1,
   "metadata": {},
   "outputs": [],
   "source": [
    "from visualization import *\n",
    "\n",
    "data = pd.read_csv('../results/optimization_results.csv')"
   ]
  },
  {
   "cell_type": "code",
   "execution_count": null,
   "metadata": {},
   "outputs": [],
   "source": []
  },
  {
   "cell_type": "code",
   "execution_count": 2,
   "metadata": {},
   "outputs": [
    {
     "data": {
      "text/plain": [
       "array([[ 1.26381363e+00, -7.24172929e-02, -8.05089753e-03,\n",
       "         1.02608576e-03,  1.69168651e-01, -2.13156675e-02],\n",
       "       [-7.24172929e-02,  1.25651597e+00,  8.01726856e-02,\n",
       "         1.53491765e-02, -1.33158094e-01,  8.81996597e-02],\n",
       "       [-8.05089753e-03,  8.01726856e-02,  1.22488650e+00,\n",
       "         4.32712668e-02, -1.04642618e-01,  7.09282940e-02],\n",
       "       [ 1.02608576e-03,  1.53491765e-02,  4.32712668e-02,\n",
       "         1.18402743e+00, -5.87216117e-03, -2.06835737e-03],\n",
       "       [ 1.69168651e-01, -1.33158094e-01, -1.04642618e-01,\n",
       "        -5.87216117e-03,  1.09757357e+00, -8.24247631e-02],\n",
       "       [-2.13156675e-02,  8.81996597e-02,  7.09282940e-02,\n",
       "        -2.06835737e-03, -8.24247631e-02,  9.44590322e-01]])"
      ]
     },
     "execution_count": 2,
     "metadata": {},
     "output_type": "execute_result"
    }
   ],
   "source": [
    "last_iter_results = data.iloc[-1]\n",
    "last_iter_results.pop('loss_total')\n",
    "last_iter_results.pop('loss_kl')\n",
    "theta_series = last_iter_results.iloc[1:]\n",
    "\n",
    "theta = theta_series.values\n",
    "\n",
    "n_genes = int(np.sqrt(theta.shape[0]))\n",
    "\n",
    "theta = theta.reshape(n_genes, n_genes)\n",
    "theta"
   ]
  },
  {
   "cell_type": "code",
   "execution_count": 10,
   "metadata": {},
   "outputs": [
    {
     "data": {
      "image/png": "[encoded data removed]",
      "text/plain": [
       "<Figure size 640x480 with 2 Axes>"
      ]
     },
     "metadata": {},
     "output_type": "display_data"
    }
   ],
   "source": [
    "def adjency_matrix_heatmap(theta, save=True):\n",
    "\n",
    "    plt.imshow(theta, cmap='RdYlGn', vmin = -0.12, vmax= 0.12,  interpolation='nearest')\n",
    "\n",
    "    if save: \n",
    "        plt.savefig(f'../results/heatmap_theta.svg', format='svg', bbox_inches='tight')  \n",
    "    plt.colorbar()  # Show color scale\n",
    "\n",
    "    plt.show()\n",
    "\n",
    "adjency_matrix_heatmap(theta)\n"
   ]
  },
  {
   "cell_type": "code",
   "execution_count": 5,
   "metadata": {},
   "outputs": [
    {
     "data": {
      "text/plain": [
       "np.float64(-0.133158094131041)"
      ]
     },
     "execution_count": 5,
     "metadata": {},
     "output_type": "execute_result"
    }
   ],
   "source": [
    "theta.min()"
   ]
  },
  {
   "cell_type": "code",
   "execution_count": null,
   "metadata": {},
   "outputs": [],
   "source": []
  }
 ],
 "metadata": {
  "kernelspec": {
   "display_name": ".venv",
   "language": "python",
   "name": "python3"
  },
  "language_info": {
   "codemirror_mode": {
    "name": "ipython",
    "version": 3
   },
   "file_extension": ".py",
   "mimetype": "text/x-python",
   "name": "python",
   "nbconvert_exporter": "python",
   "pygments_lexer": "ipython3",
   "version": "3.9.18"
  }
 },
 "nbformat": 4,
 "nbformat_minor": 2
}
