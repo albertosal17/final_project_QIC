{
 "cells": [
  {
   "cell_type": "code",
   "execution_count": 1,
   "metadata": {},
   "outputs": [
    {
     "name": "stdout",
     "output_type": "stream",
     "text": [
      "[[0.34890811 0.         0.         0.         0.         0.        ]\n",
      " [0.         0.34543392 0.         0.         0.         0.        ]\n",
      " [0.         0.         0.33047362 0.         0.         0.        ]\n",
      " [0.         0.         0.         0.31140102 0.         0.        ]\n",
      " [0.         0.         0.         0.         0.27212138 0.        ]\n",
      " [0.         0.         0.         0.         0.         0.20696256]]\n",
      "(64,) \n",
      " [1 0 0 0 0 0 0 0 0 0 0 0 0 0 0 0 0 0 0 0 0 0 0 0 0 0 0 0 0 0 0 0 0 0 0 0 0\n",
      " 0 0 0 0 0 0 0 0 0 0 0 0 0 0 0 0 0 0 0 0 0 0 0 0 0 0 0]\n",
      "(64,) \n",
      " [9.31630704e-01+0.j 1.64195868e-01+0.j 1.62527776e-01+0.j\n",
      " 2.86448152e-02+0.j 1.55356175e-01+0.j 2.73808517e-02+0.j\n",
      " 2.71026852e-02+0.j 4.77673064e-03+0.j 1.46239031e-01+0.j\n",
      " 2.57739946e-02+0.j 2.55121524e-02+0.j 4.49640614e-03+0.j\n",
      " 2.43864188e-02+0.j 4.29800048e-03+0.j 4.25433640e-03+0.j\n",
      " 7.49808327e-04+0.j 1.27546359e-01+0.j 2.24794923e-02+0.j\n",
      " 2.22511195e-02+0.j 3.92166324e-03+0.j 2.12692802e-02+0.j\n",
      " 3.74861834e-03+0.j 3.71053552e-03+0.j 6.53965782e-04+0.j\n",
      " 2.00210834e-02+0.j 3.52862905e-03+0.j 3.49278114e-03+0.j\n",
      " 6.15587518e-04+0.j 3.33866082e-03+0.j 5.88424481e-04+0.j\n",
      " 5.82446582e-04+0.j 1.02653682e-04+0.j 9.67519384e-02+0.j\n",
      " 1.70521092e-02+0.j 1.68788741e-02+0.j 2.97482831e-03+0.j\n",
      " 1.61340873e-02+0.j 2.84356286e-03+0.j 2.81467465e-03+0.j\n",
      " 4.96074191e-04+0.j 1.51872514e-02+0.j 2.67668715e-03+0.j\n",
      " 2.64949425e-03+0.j 4.66961863e-04+0.j 2.53258430e-03+0.j\n",
      " 4.46356991e-04+0.j 4.41822378e-04+0.j 7.78692767e-05+0.j\n",
      " 1.32459755e-02+0.j 2.33454570e-03+0.j 2.31082867e-03+0.j\n",
      " 4.07273524e-04+0.j 2.20886246e-03+0.j 3.89302423e-04+0.j\n",
      " 3.85347437e-04+0.j 6.79158133e-05+0.j 2.07923442e-03+0.j\n",
      " 3.66456042e-04+0.j 3.62733156e-04+0.j 6.39301445e-05+0.j\n",
      " 3.46727416e-04+0.j 6.11092022e-05+0.j 6.04883840e-05+0.j\n",
      " 1.06608152e-05+0.j]\n"
     ]
    }
   ],
   "source": [
    "from quantum_circuit import *\n",
    "import numpy as np\n",
    "import pandas as pd \n",
    "\n",
    "dbg = False\n",
    "\n",
    "act_ratios_df = pd.read_csv('../act_ratios.csv', header=None) \n",
    "act_ratios = act_ratios_df[1].values \n",
    "genes_names = act_ratios_df[0].values\n",
    "theta_in = np.diag(act_ratios)\n",
    "print(theta_in)\n",
    "a = encoder_layer(theta_in, debug = dbg)\n",
    "\n",
    "psi_in = np.kron([1,0],[1,0])\n",
    "psi_in = np.kron(psi_in, [1,0])\n",
    "psi_in = np.kron(psi_in, [1,0])\n",
    "psi_in = np.kron(psi_in, [1,0])\n",
    "psi_in = np.kron(psi_in, [1,0])\n",
    "print(psi_in.shape, '\\n', psi_in)\n",
    "\n",
    "psi_out = np.dot(a, psi_in)\n",
    "print(psi_out.shape, '\\n', psi_out)"
   ]
  },
  {
   "cell_type": "code",
   "execution_count": 6,
   "metadata": {},
   "outputs": [
    {
     "data": {
      "text/plain": [
       "0"
      ]
     },
     "execution_count": 6,
     "metadata": {},
     "output_type": "execute_result"
    }
   ],
   "source": [
    "lists = []\n",
    "for i in range(6): lists.append(i)\n",
    "lists[0]"
   ]
  },
  {
   "cell_type": "code",
   "execution_count": null,
   "metadata": {},
   "outputs": [],
   "source": []
  }
 ],
 "metadata": {
  "kernelspec": {
   "display_name": ".venv",
   "language": "python",
   "name": "python3"
  },
  "language_info": {
   "codemirror_mode": {
    "name": "ipython",
    "version": 3
   },
   "file_extension": ".py",
   "mimetype": "text/x-python",
   "name": "python",
   "nbconvert_exporter": "python",
   "pygments_lexer": "ipython3",
   "version": "3.9.18"
  }
 },
 "nbformat": 4,
 "nbformat_minor": 2
}
